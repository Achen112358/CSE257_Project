{
 "cells": [
  {
   "cell_type": "markdown",
   "metadata": {
    "colab_type": "text",
    "id": "AncN4k28DxaG"
   },
   "source": [
    "# On delayed conversions in real-world online marketing\n"
   ]
  },
  {
   "cell_type": "markdown",
   "metadata": {
    "colab_type": "text",
    "id": "HprY6EEVDxaI"
   },
   "source": [
    "  * This code includes all needed material to reproduce the real data experiments of submission 7109\n",
    "  * For details about the content of the Dataset, refer to https://ailab.criteo.com/criteo-attribution-modeling-bidding-dataset/ \n",
    "  and \n",
    "  \n",
    "  “Attribution Modeling Increases Efficiency of Bidding in Display Advertising”\n",
    "Eustache Diemert*, Julien Meynet* (Criteo AI Lab), Damien Lefortier (Facebook), Pierre Galland (Criteo) *authors contributed equally"
   ]
  },
  {
   "cell_type": "markdown",
   "metadata": {
    "colab_type": "text",
    "id": "UEwhcqYCDxaI"
   },
   "source": [
    "# Preprocessing"
   ]
  },
  {
   "cell_type": "code",
   "execution_count": 1,
   "metadata": {
    "colab": {
     "height": 35
    },
    "colab_type": "code",
    "id": "upCm7FT6DxaJ",
    "outputId": "36814bc5-a5e6-49a9-d286-1ae8481b5cf1"
   },
   "outputs": [
    {
     "name": "stdout",
     "output_type": "stream",
     "text": [
      "Populating the interactive namespace from numpy and matplotlib\n"
     ]
    }
   ],
   "source": [
    "%pylab inline\n",
    "import pandas as pd\n",
    "plt.style.use('ggplot')\n",
    "from scipy.optimize import minimize"
   ]
  },
  {
   "cell_type": "code",
   "execution_count": 2,
   "metadata": {
    "colab": {},
    "colab_type": "code",
    "id": "R-3ZO00bDxaM"
   },
   "outputs": [],
   "source": [
    "DATA_FILE='./criteo_attribution_dataset/criteo_attribution_dataset.tsv.gz' #your local directory\n",
    "df = pd.read_csv(DATA_FILE, sep='\\t', compression='gzip')"
   ]
  },
  {
   "cell_type": "code",
   "execution_count": 3,
   "metadata": {
    "colab": {},
    "colab_type": "code",
    "id": "fAb3TQceDxaU"
   },
   "outputs": [],
   "source": [
    "df['gap_click_sale'] = -1\n",
    "df.loc[df.conversion == 1, 'gap_click_sale'] = df.conversion_timestamp - df.timestamp"
   ]
  },
  {
   "cell_type": "code",
   "execution_count": 4,
   "metadata": {
    "colab": {},
    "colab_type": "code",
    "id": "HCvDL97JDxaW"
   },
   "outputs": [],
   "source": [
    "FEATURES = ['campaign', 'cat1', 'cat2', 'cat3', 'cat4', 'cat5', 'cat6', \n",
    "            'cat7', 'cat8']\n",
    "INFOS = ['cost', 'cpo', 'time_since_last_click']"
   ]
  },
  {
   "cell_type": "markdown",
   "metadata": {
    "colab_type": "text",
    "id": "MkVqFmV1ZoyH"
   },
   "source": [
    "# Model Sanity check : correlation of action features and delays\n",
    "\n",
    "In this section we empirically validate the assumption that delays are independent of the actions. Conditionally on a conversion having happened (i.e. delay is observed), we compute the correlation coefficient of the delays with respect to the features of the contextual action taken. \n",
    "For that purpose, we use the hashing trick (https://en.wikipedia.org/wiki/Feature_hashing) to transform the vector of categorical variables contained in FEATURES that include both the campaign and the categorical variables describing the session. "
   ]
  },
  {
   "cell_type": "code",
   "execution_count": 5,
   "metadata": {
    "colab": {},
    "colab_type": "code",
    "id": "LzS2PvgeZ871"
   },
   "outputs": [],
   "source": [
    "from sklearn.linear_model import LinearRegression, LogisticRegression\n",
    "from sklearn.feature_extraction import FeatureHasher\n",
    "from sklearn.metrics import log_loss\n",
    "\n",
    "def to_dict_values(sub_df, features):\n",
    "    return [dict([(_[0]+str(_[1]),1) for _ in zip(features,l)]) for l in sub_df.values]\n",
    "\n",
    "features = FEATURES\n",
    "  \n",
    "# extract sub data frames containing the features\n",
    "df_converted = df[df.conversion == 1]\n",
    "#we want to regress delays :\n",
    "y = df_converted['gap_click_sale']\n",
    "# using the available features:\n",
    "X = df_converted[features]\n",
    "#hashing trick\n",
    "hasher = FeatureHasher(n_features=2*9, alternate_sign=1)\n",
    "\n",
    "X_h = hasher.fit_transform(to_dict_values(X,features))\n",
    "\n",
    "reg = LinearRegression().fit(X_h,y)\n"
   ]
  },
  {
   "cell_type": "code",
   "execution_count": 6,
   "metadata": {
    "colab": {
     "height": 35
    },
    "colab_type": "code",
    "id": "19WgL2DKi-pS",
    "outputId": "ff2000f9-9874-486e-888f-95cd974cbf4f"
   },
   "outputs": [
    {
     "data": {
      "text/plain": [
       "0.04012095055051279"
      ]
     },
     "execution_count": 6,
     "metadata": {},
     "output_type": "execute_result"
    }
   ],
   "source": [
    "reg.score(X_h,y)"
   ]
  },
  {
   "cell_type": "markdown",
   "metadata": {
    "colab_type": "text",
    "id": "HiNPUDycl7i3"
   },
   "source": [
    "## conclusion:\n",
    "The correlation coefficient is $r=0.0217$ so delays are not correlated with the action features. The hypothesis that delays are independent on the action taken, conditionally on this action being converted, is valid. "
   ]
  },
  {
   "cell_type": "markdown",
   "metadata": {
    "colab_type": "text",
    "id": "JkYRHD4lmyNr"
   },
   "source": [
    "# Delay distribution"
   ]
  },
  {
   "cell_type": "code",
   "execution_count": 7,
   "metadata": {
    "colab": {
     "height": 279
    },
    "colab_type": "code",
    "id": "9K3i8r9Km0yZ",
    "outputId": "6e6cf4cf-2574-41b9-baab-44bae7bd68a4"
   },
   "outputs": [
    {
     "data": {
      "image/png": "[encoded data removed]",
      "text/plain": [
       "<Figure size 432x288 with 1 Axes>"
      ]
     },
     "metadata": {},
     "output_type": "display_data"
    }
   ],
   "source": [
    "# @title First check, plot the histogram of delays (when observed, that is conditionally on conversions)\n",
    "histo = df.gap_click_sale[df.conversion == 1].hist(bins = 100)"
   ]
  },
  {
   "cell_type": "code",
   "execution_count": 8,
   "metadata": {
    "cellView": "both",
    "colab": {
     "height": 302
    },
    "colab_type": "code",
    "id": "4XsA0ikFnjWh",
    "outputId": "c85aa21e-387a-4303-9442-1528d724a6cd"
   },
   "outputs": [
    {
     "name": "stdout",
     "output_type": "stream",
     "text": [
      "(577.0, 19473174.819347348)\n"
     ]
    },
    {
     "data": {
      "image/png": "[encoded data removed]",
      "text/plain": [
       "<Figure size 432x288 with 1 Axes>"
      ]
     },
     "metadata": {},
     "output_type": "display_data"
    }
   ],
   "source": [
    "# @title Fit an exponential law : Not convincing !\n",
    "# tails are heavier\n",
    "\n",
    "from math import log\n",
    "import scipy.stats as ss\n",
    "\n",
    "#histogram from real data (normalized)\n",
    "D = np.array(y).astype(float)\n",
    "cnts, bins, p = plt.hist(D, label='original sample', bins=100, histtype='step', linewidth=1.5, density = True)\n",
    "\n",
    "#MLE\n",
    "rv = ss.expon()\n",
    "exp_model = ss.expon.fit(X)\n",
    "print (exp_model)\n",
    "\n",
    "y_exp_model = rv.pdf( bins)\n",
    "sample_exp_model = rv.rvs(size=1000)\n",
    "\n",
    "# Histogram of datapoints sampled from KDE\n",
    "plt.hist(sample_exp_model, label='sample from exp model', bins=bins,histtype='step', linewidth=1.5, density = True)\n",
    "\n",
    "# Visualize the kde itself\n",
    "#plt.plot(bins, y_exp_model, label='exp model')\n",
    "plt.legend()\n",
    "plt.xscale('log')\n",
    "plt.show()\n",
    "\n",
    "## Doesn't seem to work at all"
   ]
  },
  {
   "cell_type": "code",
   "execution_count": 9,
   "metadata": {
    "colab": {
     "height": 297
    },
    "colab_type": "code",
    "id": "_LE9B1JlxHR9",
    "outputId": "f813158f-be2d-4f2d-e9f2-700ea83ff0e1"
   },
   "outputs": [
    {
     "data": {
      "image/png": "[encoded data removed]",
      "text/plain": [
       "<Figure size 432x288 with 1 Axes>"
      ]
     },
     "metadata": {},
     "output_type": "display_data"
    }
   ],
   "source": [
    "# @title Second attempt : fitting a KDE on logarithmic delays\n",
    "# ''' Seems much more convincing'''\n",
    "\n",
    "\n",
    "#histogram from real data (normalized)\n",
    "D = np.array(y).astype(float)\n",
    "D = np.log10(D)\n",
    "\n",
    "# Generate a KDE from the empirical sample\n",
    "sample_pdf = ss.gaussian_kde(D)\n",
    "\n",
    "# Sample new datapoints from the KDE\n",
    "new_sample_data = sample_pdf.resample(10000).T[:,0]\n",
    "\n",
    "# Histogram of initial empirical sample\n",
    "cnts, bins, p = plt.hist(D, label='original sample', bins=1000, histtype='step', linewidth=1.5, density=True)\n",
    "\n",
    "# Histogram of datapoints sampled from KDE\n",
    "plt.hist(new_sample_data, label='sample from KDE', bins=bins,histtype='step', linewidth=1.5, density = True)\n",
    "\n",
    "# Visualize the kde itself\n",
    "y_kde = sample_pdf(bins)\n",
    "plt.plot(bins, y_kde, label='KDE')\n",
    "plt.legend(loc=2)\n",
    "plt.xlabel(\"log delays (base 10)\")\n",
    "plt.ylabel(\"probability\")\n",
    "plt.show()"
   ]
  },
  {
   "cell_type": "code",
   "execution_count": 10,
   "metadata": {
    "colab": {
     "height": 35
    },
    "colab_type": "code",
    "id": "4ny4Ipa8SRhm",
    "outputId": "a9f7fef1-0b02-4481-ece5-343b9541adc2"
   },
   "outputs": [
    {
     "data": {
      "text/plain": [
       "152.05381588948308"
      ]
     },
     "execution_count": 10,
     "metadata": {},
     "output_type": "execute_result"
    }
   ],
   "source": [
    "np.savetxt('./figures/emp_dist_delay',y_kde) ## your local directory\n",
    "np.savetxt('./figures/emp_dist_delay_log_values',bins) ## your local directory\n",
    "np.sum(y_kde)"
   ]
  },
  {
   "cell_type": "markdown",
   "metadata": {
    "colab_type": "text",
    "id": "uLY1SH4sDxal"
   },
   "source": [
    "## Delayed Linear Bandits\n",
    "We test linear regression and logistic regression on the data. Due to very low conversion probability, linear regression is not the right model but logistic regression shows satisfying R2 scores. "
   ]
  },
  {
   "cell_type": "code",
   "execution_count": 11,
   "metadata": {
    "colab": {},
    "colab_type": "code",
    "id": "-m77S9KZFviw"
   },
   "outputs": [],
   "source": [
    "# just splitting the dataset into days and hours\n",
    "\n",
    "df['day'] = np.floor(df.timestamp / 86400.).astype(int)\n",
    "df['hour'] = np.floor(df.timestamp / 3600).astype(int)"
   ]
  },
  {
   "cell_type": "code",
   "execution_count": 12,
   "metadata": {
    "colab": {},
    "colab_type": "code",
    "id": "0drbbYSRBMmt"
   },
   "outputs": [
    {
     "name": "stdout",
     "output_type": "stream",
     "text": [
      "score 0.07344326527512524\n"
     ]
    }
   ],
   "source": [
    "# fit Linear regression FEATURES -> conversion\n",
    "#we want to regress delays :\n",
    "\n",
    "# using the available features:\n",
    "sub_df_train = df[df.hour <= 10]#.sample(n=100000)\n",
    "X_train = sub_df_train[features]\n",
    "y_train = sub_df_train['conversion']\n",
    "\n",
    "sub_df_test = df[df.hour == 11 ]#.sample(n=1000)\n",
    "X_test = sub_df_test[features]\n",
    "y_test = sub_df_test['conversion']\n",
    "\n",
    "#hashing trick\n",
    "hasher = FeatureHasher(n_features=2**7, alternate_sign=1)\n",
    "\n",
    "X_train_h = hasher.fit_transform(to_dict_values(X_train,features))\n",
    "X_test_h = hasher.transform(to_dict_values(X_test,features))\n",
    "\n",
    "lin_reg = LinearRegression().fit(X_train_h,y_train)\n",
    "\n",
    "print ('score', lin_reg.score(X_test_h,y_test))"
   ]
  },
  {
   "cell_type": "code",
   "execution_count": 13,
   "metadata": {
    "colab": {},
    "colab_type": "code",
    "id": "vTnRHDlQHKmN"
   },
   "outputs": [
    {
     "data": {
      "text/plain": [
       "array([ 0.01154225, -0.00196341, -0.0310213 ,  0.00454631, -0.01020258,\n",
       "        0.01182485, -0.02485373, -0.00201079, -0.01542154, -0.00962546,\n",
       "        0.01216496, -0.00412444,  0.02032216,  0.02208067, -0.01086817,\n",
       "       -0.01775011,  0.02457629, -0.00503412, -0.01375691,  0.01430991,\n",
       "       -0.00129844,  0.00819943,  0.01233186,  0.01429199,  0.01038724,\n",
       "        0.00063103, -0.0275695 ,  0.01430242,  0.03166314, -0.01145712,\n",
       "       -0.01828751,  0.0157576 ,  0.0072264 , -0.01007896, -0.01712127,\n",
       "        0.00326705, -0.04661664,  0.01164774,  0.0094262 , -0.00850711,\n",
       "        0.01394279, -0.00165808, -0.00235875, -0.0360686 ,  0.01042292,\n",
       "       -0.00659328, -0.00081111, -0.00341168,  0.00374589,  0.00436628,\n",
       "        0.00507888,  0.01209083, -0.00368711, -0.0081814 , -0.00840493,\n",
       "        0.00057675, -0.01205879, -0.0165774 , -0.06899257,  0.01007342,\n",
       "       -0.01625587,  0.01001996,  0.0544622 ,  0.01371074,  0.00620102,\n",
       "       -0.00965442,  0.00152123, -0.00078996, -0.00114574,  0.01875052,\n",
       "       -0.0195015 ,  0.00771959,  0.00854535, -0.00012079,  0.00464421,\n",
       "        0.01608714,  0.02946839,  0.01945702, -0.01151246,  0.00642347,\n",
       "        0.01094976,  0.02316353, -0.02283246, -0.00249427, -0.01136882,\n",
       "        0.00875922,  0.00582787,  0.01096143,  0.001243  ,  0.01338912,\n",
       "        0.00785595, -0.01117009, -0.01429073,  0.02605479, -0.01975614,\n",
       "        0.00515123,  0.00840541, -0.04957728, -0.00589746, -0.03296149,\n",
       "        0.00702841,  0.02874988,  0.02206429,  0.00988968,  0.00451694,\n",
       "       -0.00537091,  0.01505861,  0.00411214,  0.01314281,  0.0121531 ,\n",
       "       -0.0111006 ,  0.00137931, -0.00452416,  0.03271199,  0.00590957,\n",
       "        0.00368033, -0.02267504,  0.03010874,  0.00116032, -0.00684539,\n",
       "        0.02060235, -0.00835056, -0.00205944,  0.00138013, -0.00067062,\n",
       "        0.00226221, -0.00111407, -0.00910919])"
      ]
     },
     "execution_count": 13,
     "metadata": {},
     "output_type": "execute_result"
    }
   ],
   "source": [
    "lin_reg.coef_"
   ]
  },
  {
   "cell_type": "code",
   "execution_count": 14,
   "metadata": {
    "colab": {},
    "colab_type": "code",
    "id": "XTE3qLHzDxbR"
   },
   "outputs": [
    {
     "name": "stdout",
     "output_type": "stream",
     "text": [
      "score 0.95\n"
     ]
    }
   ],
   "source": [
    "# let's also try LogisticRegression\n",
    "\n",
    "# using the available features:\n",
    "sub_df_train = df.sample(n=100000)\n",
    "X_train = sub_df_train[features]\n",
    "y_train = sub_df_train['conversion']\n",
    "\n",
    "sub_df_test = df.sample(n=1000)\n",
    "X_test = sub_df_test[features]\n",
    "y_test = sub_df_test['conversion']\n",
    "\n",
    "#hashing trick\n",
    "hasher = FeatureHasher(n_features=2**7, alternate_sign=1)\n",
    "\n",
    "X_train_h = hasher.fit_transform(to_dict_values(X_train,features))\n",
    "X_test_h = hasher.transform(to_dict_values(X_test,features))\n",
    "\n",
    "log_reg = LogisticRegression().fit(X_train_h,y_train)\n",
    "\n",
    "print ('score', log_reg.score(X_test_h,y_test))"
   ]
  },
  {
   "cell_type": "markdown",
   "metadata": {
    "colab_type": "text",
    "id": "mzXpaeuP-C4s"
   },
   "source": [
    "## Checking non-stationarity\n",
    "It is worth checking how stationary is the model (additional tests)"
   ]
  },
  {
   "cell_type": "code",
   "execution_count": 15,
   "metadata": {
    "colab": {},
    "colab_type": "code",
    "id": "iXq_5cpb_KtY"
   },
   "outputs": [],
   "source": [
    "#   import pdb; pdb.set_trace()\n",
    "from numpy.linalg import norm\n",
    "\n",
    "    \n",
    "thetas = pd.DataFrame()\n",
    "delta_thetas = pd.DataFrame()\n",
    "\n",
    "hour_range = range(24)\n",
    "\n",
    "for h in hour_range:\n",
    "  \n",
    "  # using the available features:\n",
    "  sub_df_train = df[df.hour == h]\n",
    "  X_train = sub_df_train[features]\n",
    "  y_train = sub_df_train['conversion']\n",
    "\n",
    "  sub_df_test = df[df.hour == h+1].sample(n=1000)\n",
    "  X_test = sub_df_test[features]\n",
    "  y_test = sub_df_test['conversion']\n",
    "\n",
    "  #hashing trick\n",
    "  hasher = FeatureHasher(n_features=2**7, alternate_sign=1)\n",
    "\n",
    "  X_train_h = hasher.fit_transform(to_dict_values(X_train,features))\n",
    "  X_test_h = hasher.transform(to_dict_values(X_test,features))\n",
    "\n",
    "  log_reg = LogisticRegression().fit(X_train_h,y_train)\n",
    "  #thetas.append([log_reg.coef_, log_reg.score(X_test_h,y_test)], ignore_index = True)\n",
    "  normalized_coef = log_reg.coef_/norm(log_reg.coef_[0])\n",
    "  temp = pd.DataFrame(normalized_coef)\n",
    "  #score = log_reg.score(X_test_h,y_test)\n",
    "  thetas = thetas.append(temp, ignore_index=True)\n",
    "  #thetas[thetas.loc[h],'score'] = score\n",
    "  \n",
    "  delta_theta = normalized_coef- np.array(thetas.loc[max(h-1, 0)])\n",
    "  delta_theta.shape = (1,128)\n",
    "  dtemp = pd.DataFrame(delta_theta)\n",
    "  delta_thetas = delta_thetas.append(dtemp, ignore_index = True)\n",
    "  #import pdb; pdb.set_trace()\n",
    "\n",
    " \n"
   ]
  },
  {
   "cell_type": "code",
   "execution_count": 16,
   "metadata": {
    "colab": {
     "height": 265
    },
    "colab_type": "code",
    "id": "DlJTnkEfVsKK",
    "outputId": "85f82ead-8009-46dc-d75e-2dad07d028f1"
   },
   "outputs": [
    {
     "data": {
      "text/html": [
       "<div>\n",
       "<style scoped>\n",
       "    .dataframe tbody tr th:only-of-type {\n",
       "        vertical-align: middle;\n",
       "    }\n",
       "\n",
       "    .dataframe tbody tr th {\n",
       "        vertical-align: top;\n",
       "    }\n",
       "\n",
       "    .dataframe thead th {\n",
       "        text-align: right;\n",
       "    }\n",
       "</style>\n",
       "<table border=\"1\" class=\"dataframe\">\n",
       "  <thead>\n",
       "    <tr style=\"text-align: right;\">\n",
       "      <th></th>\n",
       "      <th>0</th>\n",
       "      <th>1</th>\n",
       "      <th>2</th>\n",
       "      <th>3</th>\n",
       "      <th>4</th>\n",
       "      <th>5</th>\n",
       "      <th>6</th>\n",
       "      <th>7</th>\n",
       "      <th>8</th>\n",
       "      <th>9</th>\n",
       "      <th>...</th>\n",
       "      <th>118</th>\n",
       "      <th>119</th>\n",
       "      <th>120</th>\n",
       "      <th>121</th>\n",
       "      <th>122</th>\n",
       "      <th>123</th>\n",
       "      <th>124</th>\n",
       "      <th>125</th>\n",
       "      <th>126</th>\n",
       "      <th>127</th>\n",
       "    </tr>\n",
       "  </thead>\n",
       "  <tbody>\n",
       "    <tr>\n",
       "      <th>0</th>\n",
       "      <td>0.032198</td>\n",
       "      <td>0.141583</td>\n",
       "      <td>-0.019053</td>\n",
       "      <td>-0.061531</td>\n",
       "      <td>0.011823</td>\n",
       "      <td>-0.029850</td>\n",
       "      <td>0.010321</td>\n",
       "      <td>-0.030692</td>\n",
       "      <td>0.027459</td>\n",
       "      <td>-0.009692</td>\n",
       "      <td>...</td>\n",
       "      <td>0.020895</td>\n",
       "      <td>0.009166</td>\n",
       "      <td>0.111292</td>\n",
       "      <td>-0.020527</td>\n",
       "      <td>0.111299</td>\n",
       "      <td>0.042092</td>\n",
       "      <td>-0.019508</td>\n",
       "      <td>-0.042183</td>\n",
       "      <td>0.115588</td>\n",
       "      <td>0.171606</td>\n",
       "    </tr>\n",
       "    <tr>\n",
       "      <th>1</th>\n",
       "      <td>-0.042441</td>\n",
       "      <td>0.099828</td>\n",
       "      <td>-0.055966</td>\n",
       "      <td>0.004985</td>\n",
       "      <td>-0.077498</td>\n",
       "      <td>0.063375</td>\n",
       "      <td>0.078107</td>\n",
       "      <td>0.085233</td>\n",
       "      <td>-0.036598</td>\n",
       "      <td>0.012732</td>\n",
       "      <td>...</td>\n",
       "      <td>0.121426</td>\n",
       "      <td>-0.024494</td>\n",
       "      <td>0.093448</td>\n",
       "      <td>-0.022239</td>\n",
       "      <td>-0.112046</td>\n",
       "      <td>0.006716</td>\n",
       "      <td>-0.179608</td>\n",
       "      <td>0.083393</td>\n",
       "      <td>0.099907</td>\n",
       "      <td>-0.055039</td>\n",
       "    </tr>\n",
       "    <tr>\n",
       "      <th>2</th>\n",
       "      <td>0.034078</td>\n",
       "      <td>0.207973</td>\n",
       "      <td>-0.119742</td>\n",
       "      <td>-0.063119</td>\n",
       "      <td>-0.003315</td>\n",
       "      <td>-0.225401</td>\n",
       "      <td>-0.120512</td>\n",
       "      <td>0.013235</td>\n",
       "      <td>-0.142056</td>\n",
       "      <td>-0.094803</td>\n",
       "      <td>...</td>\n",
       "      <td>-0.005319</td>\n",
       "      <td>-0.012888</td>\n",
       "      <td>0.038774</td>\n",
       "      <td>-0.038672</td>\n",
       "      <td>-0.095982</td>\n",
       "      <td>0.101354</td>\n",
       "      <td>-0.083319</td>\n",
       "      <td>0.161193</td>\n",
       "      <td>0.109116</td>\n",
       "      <td>-0.016261</td>\n",
       "    </tr>\n",
       "    <tr>\n",
       "      <th>3</th>\n",
       "      <td>0.032683</td>\n",
       "      <td>0.048506</td>\n",
       "      <td>-0.091695</td>\n",
       "      <td>0.074659</td>\n",
       "      <td>-0.008050</td>\n",
       "      <td>0.086426</td>\n",
       "      <td>-0.007785</td>\n",
       "      <td>-0.022315</td>\n",
       "      <td>-0.003317</td>\n",
       "      <td>0.024740</td>\n",
       "      <td>...</td>\n",
       "      <td>0.197125</td>\n",
       "      <td>-0.004745</td>\n",
       "      <td>0.050795</td>\n",
       "      <td>0.008633</td>\n",
       "      <td>-0.038454</td>\n",
       "      <td>0.064423</td>\n",
       "      <td>-0.067751</td>\n",
       "      <td>0.228459</td>\n",
       "      <td>0.017879</td>\n",
       "      <td>0.013497</td>\n",
       "    </tr>\n",
       "    <tr>\n",
       "      <th>4</th>\n",
       "      <td>-0.038943</td>\n",
       "      <td>-0.031271</td>\n",
       "      <td>-0.093188</td>\n",
       "      <td>0.041431</td>\n",
       "      <td>0.047683</td>\n",
       "      <td>-0.005911</td>\n",
       "      <td>0.073642</td>\n",
       "      <td>0.003532</td>\n",
       "      <td>-0.042561</td>\n",
       "      <td>-0.058250</td>\n",
       "      <td>...</td>\n",
       "      <td>-0.203656</td>\n",
       "      <td>0.079139</td>\n",
       "      <td>0.006003</td>\n",
       "      <td>0.117329</td>\n",
       "      <td>-0.022006</td>\n",
       "      <td>0.024326</td>\n",
       "      <td>0.013896</td>\n",
       "      <td>0.019483</td>\n",
       "      <td>-0.047416</td>\n",
       "      <td>-0.072746</td>\n",
       "    </tr>\n",
       "  </tbody>\n",
       "</table>\n",
       "<p>5 rows × 128 columns</p>\n",
       "</div>"
      ],
      "text/plain": [
       "        0         1         2         3         4         5         6    \\\n",
       "0  0.032198  0.141583 -0.019053 -0.061531  0.011823 -0.029850  0.010321   \n",
       "1 -0.042441  0.099828 -0.055966  0.004985 -0.077498  0.063375  0.078107   \n",
       "2  0.034078  0.207973 -0.119742 -0.063119 -0.003315 -0.225401 -0.120512   \n",
       "3  0.032683  0.048506 -0.091695  0.074659 -0.008050  0.086426 -0.007785   \n",
       "4 -0.038943 -0.031271 -0.093188  0.041431  0.047683 -0.005911  0.073642   \n",
       "\n",
       "        7         8         9    ...       118       119       120       121  \\\n",
       "0 -0.030692  0.027459 -0.009692  ...  0.020895  0.009166  0.111292 -0.020527   \n",
       "1  0.085233 -0.036598  0.012732  ...  0.121426 -0.024494  0.093448 -0.022239   \n",
       "2  0.013235 -0.142056 -0.094803  ... -0.005319 -0.012888  0.038774 -0.038672   \n",
       "3 -0.022315 -0.003317  0.024740  ...  0.197125 -0.004745  0.050795  0.008633   \n",
       "4  0.003532 -0.042561 -0.058250  ... -0.203656  0.079139  0.006003  0.117329   \n",
       "\n",
       "        122       123       124       125       126       127  \n",
       "0  0.111299  0.042092 -0.019508 -0.042183  0.115588  0.171606  \n",
       "1 -0.112046  0.006716 -0.179608  0.083393  0.099907 -0.055039  \n",
       "2 -0.095982  0.101354 -0.083319  0.161193  0.109116 -0.016261  \n",
       "3 -0.038454  0.064423 -0.067751  0.228459  0.017879  0.013497  \n",
       "4 -0.022006  0.024326  0.013896  0.019483 -0.047416 -0.072746  \n",
       "\n",
       "[5 rows x 128 columns]"
      ]
     },
     "execution_count": 16,
     "metadata": {},
     "output_type": "execute_result"
    }
   ],
   "source": [
    "thetas.head()"
   ]
  },
  {
   "cell_type": "code",
   "execution_count": 17,
   "metadata": {
    "colab": {
     "height": 265
    },
    "colab_type": "code",
    "id": "7UN4EVfnYK0m",
    "outputId": "084cbe02-a3e6-4f2a-edd7-cdbcf3db9c54"
   },
   "outputs": [
    {
     "data": {
      "text/html": [
       "<div>\n",
       "<style scoped>\n",
       "    .dataframe tbody tr th:only-of-type {\n",
       "        vertical-align: middle;\n",
       "    }\n",
       "\n",
       "    .dataframe tbody tr th {\n",
       "        vertical-align: top;\n",
       "    }\n",
       "\n",
       "    .dataframe thead th {\n",
       "        text-align: right;\n",
       "    }\n",
       "</style>\n",
       "<table border=\"1\" class=\"dataframe\">\n",
       "  <thead>\n",
       "    <tr style=\"text-align: right;\">\n",
       "      <th></th>\n",
       "      <th>0</th>\n",
       "      <th>1</th>\n",
       "      <th>2</th>\n",
       "      <th>3</th>\n",
       "      <th>4</th>\n",
       "      <th>5</th>\n",
       "      <th>6</th>\n",
       "      <th>7</th>\n",
       "      <th>8</th>\n",
       "      <th>9</th>\n",
       "      <th>...</th>\n",
       "      <th>118</th>\n",
       "      <th>119</th>\n",
       "      <th>120</th>\n",
       "      <th>121</th>\n",
       "      <th>122</th>\n",
       "      <th>123</th>\n",
       "      <th>124</th>\n",
       "      <th>125</th>\n",
       "      <th>126</th>\n",
       "      <th>127</th>\n",
       "    </tr>\n",
       "  </thead>\n",
       "  <tbody>\n",
       "    <tr>\n",
       "      <th>0</th>\n",
       "      <td>0.000000</td>\n",
       "      <td>0.000000</td>\n",
       "      <td>0.000000</td>\n",
       "      <td>0.000000</td>\n",
       "      <td>0.000000</td>\n",
       "      <td>0.000000</td>\n",
       "      <td>0.000000</td>\n",
       "      <td>0.000000</td>\n",
       "      <td>0.000000</td>\n",
       "      <td>0.000000</td>\n",
       "      <td>...</td>\n",
       "      <td>0.000000</td>\n",
       "      <td>0.000000</td>\n",
       "      <td>0.000000</td>\n",
       "      <td>0.000000</td>\n",
       "      <td>0.000000</td>\n",
       "      <td>0.000000</td>\n",
       "      <td>0.000000</td>\n",
       "      <td>0.000000</td>\n",
       "      <td>0.000000</td>\n",
       "      <td>0.000000</td>\n",
       "    </tr>\n",
       "    <tr>\n",
       "      <th>1</th>\n",
       "      <td>-0.074639</td>\n",
       "      <td>-0.041756</td>\n",
       "      <td>-0.036914</td>\n",
       "      <td>0.066516</td>\n",
       "      <td>-0.089322</td>\n",
       "      <td>0.093225</td>\n",
       "      <td>0.067786</td>\n",
       "      <td>0.115925</td>\n",
       "      <td>-0.064057</td>\n",
       "      <td>0.022424</td>\n",
       "      <td>...</td>\n",
       "      <td>0.100532</td>\n",
       "      <td>-0.033660</td>\n",
       "      <td>-0.017844</td>\n",
       "      <td>-0.001712</td>\n",
       "      <td>-0.223345</td>\n",
       "      <td>-0.035376</td>\n",
       "      <td>-0.160099</td>\n",
       "      <td>0.125576</td>\n",
       "      <td>-0.015681</td>\n",
       "      <td>-0.226646</td>\n",
       "    </tr>\n",
       "    <tr>\n",
       "      <th>2</th>\n",
       "      <td>0.076519</td>\n",
       "      <td>0.108145</td>\n",
       "      <td>-0.063776</td>\n",
       "      <td>-0.068104</td>\n",
       "      <td>0.074184</td>\n",
       "      <td>-0.288776</td>\n",
       "      <td>-0.198619</td>\n",
       "      <td>-0.071997</td>\n",
       "      <td>-0.105458</td>\n",
       "      <td>-0.107534</td>\n",
       "      <td>...</td>\n",
       "      <td>-0.126745</td>\n",
       "      <td>0.011606</td>\n",
       "      <td>-0.054674</td>\n",
       "      <td>-0.016432</td>\n",
       "      <td>0.016064</td>\n",
       "      <td>0.094638</td>\n",
       "      <td>0.096289</td>\n",
       "      <td>0.077801</td>\n",
       "      <td>0.009209</td>\n",
       "      <td>0.038779</td>\n",
       "    </tr>\n",
       "    <tr>\n",
       "      <th>3</th>\n",
       "      <td>-0.001395</td>\n",
       "      <td>-0.159467</td>\n",
       "      <td>0.028047</td>\n",
       "      <td>0.137778</td>\n",
       "      <td>-0.004735</td>\n",
       "      <td>0.311827</td>\n",
       "      <td>0.112727</td>\n",
       "      <td>-0.035550</td>\n",
       "      <td>0.138739</td>\n",
       "      <td>0.119543</td>\n",
       "      <td>...</td>\n",
       "      <td>0.202444</td>\n",
       "      <td>0.008143</td>\n",
       "      <td>0.012021</td>\n",
       "      <td>0.047305</td>\n",
       "      <td>0.057528</td>\n",
       "      <td>-0.036931</td>\n",
       "      <td>0.015568</td>\n",
       "      <td>0.067266</td>\n",
       "      <td>-0.091237</td>\n",
       "      <td>0.029758</td>\n",
       "    </tr>\n",
       "    <tr>\n",
       "      <th>4</th>\n",
       "      <td>-0.071626</td>\n",
       "      <td>-0.079777</td>\n",
       "      <td>-0.001493</td>\n",
       "      <td>-0.033229</td>\n",
       "      <td>0.055733</td>\n",
       "      <td>-0.092336</td>\n",
       "      <td>0.081426</td>\n",
       "      <td>0.025846</td>\n",
       "      <td>-0.039244</td>\n",
       "      <td>-0.082990</td>\n",
       "      <td>...</td>\n",
       "      <td>-0.400781</td>\n",
       "      <td>0.083884</td>\n",
       "      <td>-0.044792</td>\n",
       "      <td>0.108695</td>\n",
       "      <td>0.016448</td>\n",
       "      <td>-0.040096</td>\n",
       "      <td>0.081648</td>\n",
       "      <td>-0.208977</td>\n",
       "      <td>-0.065295</td>\n",
       "      <td>-0.086244</td>\n",
       "    </tr>\n",
       "  </tbody>\n",
       "</table>\n",
       "<p>5 rows × 128 columns</p>\n",
       "</div>"
      ],
      "text/plain": [
       "        0         1         2         3         4         5         6    \\\n",
       "0  0.000000  0.000000  0.000000  0.000000  0.000000  0.000000  0.000000   \n",
       "1 -0.074639 -0.041756 -0.036914  0.066516 -0.089322  0.093225  0.067786   \n",
       "2  0.076519  0.108145 -0.063776 -0.068104  0.074184 -0.288776 -0.198619   \n",
       "3 -0.001395 -0.159467  0.028047  0.137778 -0.004735  0.311827  0.112727   \n",
       "4 -0.071626 -0.079777 -0.001493 -0.033229  0.055733 -0.092336  0.081426   \n",
       "\n",
       "        7         8         9    ...       118       119       120       121  \\\n",
       "0  0.000000  0.000000  0.000000  ...  0.000000  0.000000  0.000000  0.000000   \n",
       "1  0.115925 -0.064057  0.022424  ...  0.100532 -0.033660 -0.017844 -0.001712   \n",
       "2 -0.071997 -0.105458 -0.107534  ... -0.126745  0.011606 -0.054674 -0.016432   \n",
       "3 -0.035550  0.138739  0.119543  ...  0.202444  0.008143  0.012021  0.047305   \n",
       "4  0.025846 -0.039244 -0.082990  ... -0.400781  0.083884 -0.044792  0.108695   \n",
       "\n",
       "        122       123       124       125       126       127  \n",
       "0  0.000000  0.000000  0.000000  0.000000  0.000000  0.000000  \n",
       "1 -0.223345 -0.035376 -0.160099  0.125576 -0.015681 -0.226646  \n",
       "2  0.016064  0.094638  0.096289  0.077801  0.009209  0.038779  \n",
       "3  0.057528 -0.036931  0.015568  0.067266 -0.091237  0.029758  \n",
       "4  0.016448 -0.040096  0.081648 -0.208977 -0.065295 -0.086244  \n",
       "\n",
       "[5 rows x 128 columns]"
      ]
     },
     "execution_count": 17,
     "metadata": {},
     "output_type": "execute_result"
    }
   ],
   "source": [
    "delta_thetas.head()"
   ]
  },
  {
   "cell_type": "code",
   "execution_count": 18,
   "metadata": {
    "colab": {
     "height": 314
    },
    "colab_type": "code",
    "id": "yZ1jQiU3U1Vh",
    "outputId": "8d43fb95-cd9c-4781-cc55-480972eab873"
   },
   "outputs": [
    {
     "data": {
      "text/plain": [
       "<matplotlib.legend.Legend at 0x12f3a2040>"
      ]
     },
     "execution_count": 18,
     "metadata": {},
     "output_type": "execute_result"
    },
    {
     "data": {
      "image/png": "[encoded data removed]",
      "text/plain": [
       "<Figure size 432x288 with 1 Axes>"
      ]
     },
     "metadata": {},
     "output_type": "display_data"
    }
   ],
   "source": [
    "delta_thetas = delta_thetas.applymap(lambda x: abs(x))\n",
    "delta_thetas['min_var'] = delta_thetas.apply(np.min, axis = 1)\n",
    "delta_thetas.min_var.plot()\n",
    "delta_thetas['max_var'] = delta_thetas.apply(np.max, axis = 1)\n",
    "delta_thetas.max_var.plot()\n",
    "delta_thetas['avg_var'] = delta_thetas.apply(np.mean, axis = 1)\n",
    "delta_thetas.avg_var.plot()\n",
    "delta_thetas['p10'] = delta_thetas.apply(lambda x: np.percentile(x,q=10), axis = 1)\n",
    "delta_thetas.p10.plot()\n",
    "plt.legend()"
   ]
  },
  {
   "cell_type": "code",
   "execution_count": null,
   "metadata": {},
   "outputs": [],
   "source": []
  }
 ],
 "metadata": {
  "colab": {
   "collapsed_sections": [],
   "name": "Delays_Experiments_criteodata_neurips_2019.ipynb",
   "provenance": [],
   "version": "0.3.2"
  },
  "kernelspec": {
   "display_name": "Python 3",
   "language": "python",
   "name": "python3"
  },
  "language_info": {
   "codemirror_mode": {
    "name": "ipython",
    "version": 3
   },
   "file_extension": ".py",
   "mimetype": "text/x-python",
   "name": "python",
   "nbconvert_exporter": "python",
   "pygments_lexer": "ipython3",
   "version": "3.9.2"
  }
 },
 "nbformat": 4,
 "nbformat_minor": 1
}
